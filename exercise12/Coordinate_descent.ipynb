{
 "cells": [
  {
   "cell_type": "code",
   "execution_count": 1,
   "metadata": {},
   "outputs": [],
   "source": [
    "from collections import defaultdict\n",
    "import numpy as np\n",
    "import scipy\n",
    "import scipy.sparse as sps\n",
    "import math\n",
    "import matplotlib.pyplot as plt\n",
    "import time\n",
    "from sklearn.datasets import load_svmlight_file\n",
    "import random\n",
    "%matplotlib inline"
   ]
  },
  {
   "cell_type": "markdown",
   "metadata": {
    "collapsed": true
   },
   "source": [
    "# Support Vector Machines\n",
    "## Classification Using SVM\n",
    "Load dataset. We will use w1a dataset from LibSVM datasets https://www.csie.ntu.edu.tw/~cjlin/libsvmtools/datasets/"
   ]
  },
  {
   "cell_type": "markdown",
   "metadata": {},
   "source": [
    "The original optimization problem for the Support Vector Machine (SVM) is given by\n",
    "\\begin{equation}\\label{eq:primal}\n",
    "  \\min_{w \\in R^d} \\  \\sum_{i=1}^n \\ell(y_i A_i^\\top w) + \\frac\\lambda2 \\|w\\|^2\n",
    "\\end{equation}\n",
    "where $\\ell : R\\rightarrow R$, $\\ell(z) := \\max\\{0,1-z\\}$ is the hinge loss function.\n",
    "Here for any $i$, $1\\le i\\le n$, the vector $A_i\\in R^d$ is the $i$-th data example, and $y_i\\in\\{\\pm1\\}$ is the corresponding label.\n",
    "  \n",
    "The dual optimization problem for the SVM is given by \n",
    "\\begin{equation}\\label{eq:dual}\n",
    " \\max_{\\boldsymbol{\\alpha} \\in R^n } \\  \\alpha^\\top\\boldsymbol{1} - \\tfrac1{2\\lambda} \\alpha^\\top Y A A^\\top Y\\alpha\n",
    " \\text{    such that    $0\\le \\alpha_i \\le 1  \\ \\forall i$}\n",
    "\\end{equation}\n",
    "where $Y := \\mathop{diag}(y)$, and $A\\in R^{n \\times d}$ again collects all $n$ data examples as its columns. \n",
    "\n",
    "Note that $w$ can be derived from $\\alpha$ as\n",
    "\\begin{equation}\n",
    "    w(\\alpha) = \\frac{1}{\\lambda} A^\\top Y \\alpha.\n",
    "\\end{equation}"
   ]
  },
  {
   "cell_type": "code",
   "execution_count": 2,
   "metadata": {},
   "outputs": [
    {
     "name": "stdout",
     "output_type": "stream",
     "text": [
      "(2477,) (2477, 300)\n"
     ]
    }
   ],
   "source": [
    "DATA_TRAIN_PATH = 'data/w1a'\n",
    "\n",
    "A, y = load_svmlight_file(DATA_TRAIN_PATH)\n",
    "A = A.toarray()\n",
    "print(y.shape, A.shape)"
   ]
  },
  {
   "cell_type": "markdown",
   "metadata": {},
   "source": [
    "## Prepare cost and prediction functions"
   ]
  },
  {
   "cell_type": "code",
   "execution_count": 3,
   "metadata": {},
   "outputs": [],
   "source": [
    "def calculate_primal_objective(y, A, w, lambda_):\n",
    "    \"\"\"\n",
    "    Compute the full cost (the primal objective), that is loss plus regularizer.\n",
    "    y: +1 or -1 labels, shape = (num_examples)\n",
    "    A: Dataset matrix, shape = (num_examples, num_features)\n",
    "    w: Model weights, shape = (num_features)\n",
    "    return: scalar value\n",
    "    \"\"\"\n",
    "    regularizer = lambda_ * np.linalg.norm(w, 2)**2\n",
    "    loss = np.sum(np.maximum(1 - y * (A @ w), 0))\n",
    "    return loss + regularizer"
   ]
  },
  {
   "cell_type": "code",
   "execution_count": 4,
   "metadata": {},
   "outputs": [],
   "source": [
    "def calculate_accuracy(y, A, w):\n",
    "    \"\"\"\n",
    "    Compute the training accuracy on the training set (can be called for test set as well).\n",
    "    y: +1 or -1 labels, shape = (num_examples)\n",
    "    A: Dataset matrix, shape = (num_examples, num_features)\n",
    "    w: Model weights, shape = (num_features)\n",
    "    return: scalar value\n",
    "    \"\"\"\n",
    "    # ***************************************************\n",
    "    # INSERT YOUR CODE HERE\n",
    "    # TODO\n",
    "    # ***************************************************\n",
    "    pred = np.sign(A @ w)\n",
    "    pred[np.where(pred==0)[0]] = 1\n",
    "    acc = np.sum(pred == y) / len(pred)\n",
    "    return acc"
   ]
  },
  {
   "cell_type": "markdown",
   "metadata": {},
   "source": [
    "## Coordinate Descent (Ascent) for SVM"
   ]
  },
  {
   "cell_type": "markdown",
   "metadata": {},
   "source": [
    "Compute the closed-form update for the i-th variable alpha, in the dual optimization problem, given alpha and the current corresponding w.\n",
    "\n",
    "\n",
    "Hints: \n",
    "- Differentiate the dual objective with respect to one `alpha[i]`.\n",
    "- Set the derivative to zero to compute a new `alpha[i]`.\n",
    "- Make sure the values of alpha stay inside a `[0, 1]` box.\n",
    "- You can formulate the update as `alpha[i] = projection(alpha[i] + lambda_ * (some update))`.\n",
    "- You can test the correctness of your implementation by checking if the difference between the dual objective and primal objective goes to zero. This difference, the duality gap, should get smaller than 10 in 700000 iterations."
   ]
  },
  {
   "cell_type": "code",
   "execution_count": 139,
   "metadata": {},
   "outputs": [],
   "source": [
    "def calculate_coordinate_update(y, A, lambda_, alpha, w, i):\n",
    "    \"\"\"\n",
    "    Compute a coordinate update (closed form) for coordinate i.\n",
    "    y: +1 or -1 labels, shape = (num_examples)\n",
    "    A: Dataset matrix, shape = (num_examples, num_features)\n",
    "    lambda_: Regularization parameter, scalar\n",
    "    alpha: Dual variables, shape = (num_examples)\n",
    "    w: Model weights, shape = (num_examples)\n",
    "    i: Index of the entry of the dual variable 'alpha' that is to be updated\n",
    "    return: New weights w (shape (num_features)), New dual variables alpha (shape (num_examples))\n",
    "    \"\"\"\n",
    "    # ***************************************************\n",
    "    # INSERT YOUR CODE HERE\n",
    "    # TODO\n",
    "    # ***************************************************\n",
    "    # calculate the update of coordinate at index=n.\n",
    "    a_i, y_i = A[i], y[i]\n",
    "    old_alpha_i = np.copy(alpha[i])\n",
    "    \n",
    "    idxs = np.append(np.arange(i), np.arange(i+1, len(y)))\n",
    "    \n",
    "    alpha[i] = (lambda_ - np.sum(((A[idxs].T * (y_i * y[idxs] * alpha[idxs]))).T @ a_i)) / np.linalg.norm(a_i)**2\n",
    "    alpha[i] = np.maximum(np.minimum(alpha[i], 1), 0)\n",
    "    \n",
    "    w = w + a_i * ((y_i * (alpha[i] - old_alpha_i)) / lambda_)\n",
    "    \n",
    "    return w, alpha"
   ]
  },
  {
   "cell_type": "code",
   "execution_count": 14,
   "metadata": {},
   "outputs": [],
   "source": [
    "def calculate_dual_objective(y, A, w, alpha, lambda_):\n",
    "    \"\"\"\n",
    "    Calculate the objective for the dual problem.\n",
    "    Follow the formula given above.\n",
    "    y: +1 or -1 labels, shape = (num_examples)\n",
    "    A: Dataset matrix, shape = (num_examples, num_features)\n",
    "    alpha: Dual variables, shape = (num_examples)\n",
    "    lambda_: Regularization parameter, scalar\n",
    "    return: Scalar value\n",
    "    \"\"\"\n",
    "    # ***************************************************\n",
    "    # INSERT YOUR CODE HERE\n",
    "    # TODO\n",
    "    # ***************************************************\n",
    "    \n",
    "    return np.sum(alpha) - (1 / (2*lambda_)) * np.sum((alpha * y) @ A @ A.T @ (y * alpha))"
   ]
  },
  {
   "cell_type": "code",
   "execution_count": 143,
   "metadata": {},
   "outputs": [
    {
     "name": "stderr",
     "output_type": "stream",
     "text": [
      "/tmp/ipykernel_16805/429604365.py:22: RuntimeWarning: divide by zero encountered in double_scalars\n",
      "  alpha[i] = (lambda_ - np.sum(((A[idxs].T * (y_i * y[idxs] * alpha[idxs]))).T @ a_i)) / np.linalg.norm(a_i)**2\n"
     ]
    },
    {
     "name": "stdout",
     "output_type": "stream",
     "text": [
      "iteration=0, primal:2477.00000, dual:1.00000, gap:2476.00000\n",
      "iteration=1000, primal:423.93571, dual:78.27808, gap:345.65762\n",
      "iteration=2000, primal:544.27900, dual:117.46075, gap:426.81825\n",
      "iteration=3000, primal:452.47932, dual:144.65356, gap:307.82575\n",
      "iteration=4000, primal:369.59819, dual:165.78682, gap:203.81137\n",
      "iteration=5000, primal:359.19594, dual:180.87137, gap:178.32457\n",
      "iteration=6000, primal:353.42006, dual:184.97332, gap:168.44674\n",
      "iteration=7000, primal:349.03114, dual:193.11221, gap:155.91893\n",
      "iteration=8000, primal:363.02717, dual:198.30214, gap:164.72503\n",
      "iteration=9000, primal:346.53978, dual:201.44288, gap:145.09690\n",
      "iteration=10000, primal:363.38976, dual:203.58812, gap:159.80164\n",
      "iteration=11000, primal:358.73336, dual:205.77176, gap:152.96160\n",
      "iteration=12000, primal:339.65175, dual:205.97470, gap:133.67705\n",
      "iteration=13000, primal:321.16338, dual:207.08042, gap:114.08296\n",
      "iteration=14000, primal:352.54205, dual:207.21749, gap:145.32456\n",
      "iteration=15000, primal:387.51731, dual:209.34792, gap:178.16939\n",
      "iteration=16000, primal:330.91081, dual:209.42668, gap:121.48413\n",
      "iteration=17000, primal:333.53455, dual:209.52173, gap:124.01281\n",
      "iteration=18000, primal:317.92503, dual:209.60742, gap:108.31761\n",
      "iteration=19000, primal:313.02967, dual:209.70002, gap:103.32965\n",
      "iteration=20000, primal:316.26148, dual:209.75151, gap:106.50996\n",
      "iteration=21000, primal:333.84243, dual:209.86370, gap:123.97873\n",
      "iteration=22000, primal:363.52765, dual:209.98338, gap:153.54427\n",
      "iteration=23000, primal:322.91538, dual:210.06620, gap:112.84918\n",
      "iteration=24000, primal:402.01624, dual:210.16135, gap:191.85488\n",
      "iteration=25000, primal:319.29340, dual:210.22286, gap:109.07054\n",
      "iteration=26000, primal:308.50798, dual:210.30083, gap:98.20715\n",
      "iteration=27000, primal:319.87739, dual:210.44706, gap:109.43033\n",
      "iteration=28000, primal:315.50987, dual:210.61752, gap:104.89235\n",
      "iteration=29000, primal:297.18331, dual:210.70622, gap:86.47709\n",
      "iteration=30000, primal:361.47969, dual:210.77721, gap:150.70249\n",
      "iteration=31000, primal:300.06478, dual:210.83408, gap:89.23070\n",
      "iteration=32000, primal:342.56861, dual:210.93914, gap:131.62946\n",
      "iteration=33000, primal:298.77445, dual:210.99611, gap:87.77834\n",
      "iteration=34000, primal:294.24335, dual:211.08022, gap:83.16313\n",
      "iteration=35000, primal:286.92059, dual:211.12653, gap:75.79407\n",
      "iteration=36000, primal:301.39151, dual:211.18115, gap:90.21036\n",
      "iteration=37000, primal:296.90031, dual:211.23109, gap:85.66923\n",
      "iteration=38000, primal:298.11466, dual:211.32091, gap:86.79375\n",
      "iteration=39000, primal:299.40975, dual:211.45768, gap:87.95207\n",
      "iteration=40000, primal:301.32452, dual:211.56551, gap:89.75901\n",
      "iteration=41000, primal:296.42148, dual:211.64309, gap:84.77839\n",
      "iteration=42000, primal:296.27510, dual:211.74187, gap:84.53324\n",
      "iteration=43000, primal:298.88517, dual:211.86129, gap:87.02389\n",
      "iteration=44000, primal:298.73059, dual:212.00426, gap:86.72633\n",
      "iteration=45000, primal:300.17922, dual:212.12923, gap:88.05000\n",
      "iteration=46000, primal:309.56364, dual:212.21063, gap:97.35301\n",
      "iteration=47000, primal:315.09862, dual:212.32691, gap:102.77172\n",
      "iteration=48000, primal:443.41643, dual:212.49377, gap:230.92266\n",
      "iteration=49000, primal:280.51464, dual:212.55458, gap:67.96006\n",
      "iteration=50000, primal:290.73269, dual:212.58583, gap:78.14686\n",
      "iteration=51000, primal:288.93193, dual:212.72309, gap:76.20883\n",
      "iteration=52000, primal:291.75192, dual:212.84986, gap:78.90206\n",
      "iteration=53000, primal:341.00456, dual:213.05506, gap:127.94950\n",
      "iteration=54000, primal:291.80884, dual:213.16181, gap:78.64703\n",
      "iteration=55000, primal:292.45419, dual:213.29079, gap:79.16340\n",
      "iteration=56000, primal:295.40485, dual:213.34813, gap:82.05672\n",
      "iteration=57000, primal:315.99119, dual:213.45422, gap:102.53697\n",
      "iteration=58000, primal:282.57408, dual:213.56340, gap:69.01068\n",
      "iteration=59000, primal:297.34117, dual:213.62526, gap:83.71591\n",
      "iteration=60000, primal:299.81506, dual:213.73037, gap:86.08469\n",
      "iteration=61000, primal:306.19110, dual:213.83457, gap:92.35654\n",
      "iteration=62000, primal:283.18003, dual:213.92813, gap:69.25190\n",
      "iteration=63000, primal:318.69822, dual:213.99891, gap:104.69930\n",
      "iteration=64000, primal:291.38716, dual:214.06623, gap:77.32092\n",
      "iteration=65000, primal:290.02555, dual:214.18944, gap:75.83611\n",
      "iteration=66000, primal:283.07926, dual:214.24923, gap:68.83003\n",
      "iteration=67000, primal:284.82659, dual:214.34484, gap:70.48175\n",
      "iteration=68000, primal:298.53410, dual:214.39366, gap:84.14045\n",
      "iteration=69000, primal:292.83614, dual:214.46776, gap:78.36838\n",
      "iteration=70000, primal:275.15352, dual:214.50099, gap:60.65253\n",
      "iteration=71000, primal:271.42295, dual:214.53001, gap:56.89295\n",
      "iteration=72000, primal:272.67587, dual:214.56552, gap:58.11035\n",
      "iteration=73000, primal:265.85395, dual:214.59741, gap:51.25654\n",
      "iteration=74000, primal:274.24222, dual:214.66341, gap:59.57880\n",
      "iteration=75000, primal:275.18563, dual:214.69391, gap:60.49172\n",
      "iteration=76000, primal:270.69590, dual:214.70575, gap:55.99015\n",
      "iteration=77000, primal:267.88937, dual:214.74474, gap:53.14463\n",
      "iteration=78000, primal:269.01136, dual:214.84238, gap:54.16898\n",
      "iteration=79000, primal:266.74733, dual:214.88075, gap:51.86658\n",
      "iteration=80000, primal:305.45672, dual:215.05172, gap:90.40500\n",
      "iteration=81000, primal:271.02605, dual:215.09667, gap:55.92938\n",
      "iteration=82000, primal:270.03065, dual:215.16444, gap:54.86622\n",
      "iteration=83000, primal:277.95923, dual:215.24076, gap:62.71847\n",
      "iteration=84000, primal:266.88627, dual:215.26974, gap:51.61653\n",
      "iteration=85000, primal:284.98153, dual:215.34422, gap:69.63731\n",
      "iteration=86000, primal:275.23272, dual:215.38177, gap:59.85094\n",
      "iteration=87000, primal:277.27926, dual:215.49288, gap:61.78638\n",
      "iteration=88000, primal:273.61917, dual:215.52744, gap:58.09173\n",
      "iteration=89000, primal:266.43644, dual:215.62409, gap:50.81236\n",
      "iteration=90000, primal:275.27689, dual:215.64945, gap:59.62744\n",
      "iteration=91000, primal:271.29961, dual:215.72510, gap:55.57450\n",
      "iteration=92000, primal:281.01370, dual:215.75710, gap:65.25660\n",
      "iteration=93000, primal:308.47953, dual:215.84670, gap:92.63283\n",
      "iteration=94000, primal:284.19478, dual:215.89669, gap:68.29808\n",
      "iteration=95000, primal:271.05003, dual:215.96199, gap:55.08804\n",
      "iteration=96000, primal:266.23133, dual:215.99324, gap:50.23809\n",
      "iteration=97000, primal:283.20189, dual:216.05151, gap:67.15037\n",
      "iteration=98000, primal:276.61820, dual:216.09143, gap:60.52676\n",
      "iteration=99000, primal:284.68480, dual:216.15566, gap:68.52914\n",
      "training accuracy = 0.8942268873637464\n",
      "defaultdict(<class 'list'>, {'objective_function': [2477.0, 423.93570550171, 544.279001989984, 452.479315944164, 369.59818920983014, 359.1959381916138, 353.4200554211486, 349.03114072736184, 363.02717413217357, 346.539781560028, 363.38976399841505, 358.73336207739663, 339.6517503306949, 321.16338307379493, 352.54204987418274, 387.5173093834252, 330.91081361359323, 333.53454687200684, 317.92502912278735, 313.02966704711287, 316.2614787905255, 333.8424289555596, 363.5276518670882, 322.9153841208819, 402.016237892521, 319.2934026061667, 308.5079801779123, 319.87739479456286, 315.50986877806065, 297.1833080018207, 361.47969371136554, 300.06477887905265, 342.56860636316645, 298.77444551151183, 294.24334793239615, 286.92059405229963, 301.3915052358094, 296.90031349308356, 298.114658815367, 299.40975061988036, 301.3245200391049, 296.42147709674015, 296.27510352363817, 298.88517271635175, 298.7305943907483, 300.1792241408704, 309.5636371862859, 315.098623375468, 443.41642827053295, 280.5146423662535, 290.7326891561604, 288.9319291700306, 291.75192259557457, 341.00455584809794, 291.8088417426342, 292.4541911402685, 295.4048508930263, 315.99118702258386, 282.574076982738, 297.3411704785743, 299.8150623274396, 306.19110256990905, 283.1800262709979, 318.69821627494844, 291.38715806170023, 290.0255493753237, 283.07926145124446, 284.82659230389777, 298.53410278100546, 292.83613666369155, 275.1535214139272, 271.42295380528606, 272.67586860872524, 265.8539482297906, 274.2422168237063, 275.1856268117774, 270.69590156512436, 267.8893683211083, 269.0113602213679, 266.7473252391846, 305.45671536622336, 271.0260530047562, 270.03065321707464, 277.959230522783, 266.88627240068394, 284.98153218269067, 275.23271569578486, 277.2792579406106, 273.61917073608976, 266.43644437735617, 275.27688923040347, 271.29960638797746, 281.0136994406214, 308.47952783414627, 284.1947764057175, 271.0500308225462, 266.23132546033605, 283.2018867123601, 276.618198705076, 284.6847959929897], 'iter': [0, 1000, 2000, 3000, 4000, 5000, 6000, 7000, 8000, 9000, 10000, 11000, 12000, 13000, 14000, 15000, 16000, 17000, 18000, 19000, 20000, 21000, 22000, 23000, 24000, 25000, 26000, 27000, 28000, 29000, 30000, 31000, 32000, 33000, 34000, 35000, 36000, 37000, 38000, 39000, 40000, 41000, 42000, 43000, 44000, 45000, 46000, 47000, 48000, 49000, 50000, 51000, 52000, 53000, 54000, 55000, 56000, 57000, 58000, 59000, 60000, 61000, 62000, 63000, 64000, 65000, 66000, 67000, 68000, 69000, 70000, 71000, 72000, 73000, 74000, 75000, 76000, 77000, 78000, 79000, 80000, 81000, 82000, 83000, 84000, 85000, 86000, 87000, 88000, 89000, 90000, 91000, 92000, 93000, 94000, 95000, 96000, 97000, 98000, 99000]})\n"
     ]
    }
   ],
   "source": [
    "def coordinate_descent_for_svm_demo(y, A, trace=False):\n",
    "    max_iter = 100000\n",
    "    lambda_ = 0.01\n",
    "    history = defaultdict(list) if trace else None\n",
    "    \n",
    "    num_examples, num_features = A.shape\n",
    "    w = np.zeros(num_features)\n",
    "    alpha = np.zeros(num_examples)\n",
    "\n",
    "    for it in range(max_iter):\n",
    "        # i = sample one data point uniformly at random from the columns of A\n",
    "        i = random.randint(0,num_examples-1)\n",
    "        \n",
    "        w, alpha = calculate_coordinate_update(y, A, lambda_, alpha, w, i)\n",
    "        \n",
    "        if it % 1000 == 0:\n",
    "            # primal objective\n",
    "            primal_value = calculate_primal_objective(y, A, w, lambda_)\n",
    "            # dual objective\n",
    "            dual_value = calculate_dual_objective(y, A, w, alpha, lambda_)\n",
    "            # primal dual gap\n",
    "            duality_gap = primal_value - dual_value\n",
    "\n",
    "            print('iteration=%i, primal:%.5f, dual:%.5f, gap:%.5f'%(\n",
    "                    it, primal_value, dual_value, duality_gap))\n",
    "        if it % 1000 == 0:\n",
    "            primal_value = calculate_primal_objective(y, A, w, lambda_)\n",
    "            if trace:\n",
    "                history[\"objective_function\"] += [primal_value]\n",
    "                history['iter'].append(it)\n",
    "\n",
    "            \n",
    "    print(\"training accuracy = {l}\".format(l=calculate_accuracy(y, A, w)))\n",
    "    return history\n",
    "\n",
    "history_cd = coordinate_descent_for_svm_demo(y, A, trace=True)\n"
   ]
  },
  {
   "cell_type": "markdown",
   "metadata": {},
   "source": [
    "# Stochastic gradient descent for SVM"
   ]
  },
  {
   "cell_type": "markdown",
   "metadata": {},
   "source": [
    "Let's now compare it with SGD on original problem for the SVM. In this part, you will implement stochastic gradient descent on the primal SVM objective. The stochasticity comes from sampling data points."
   ]
  },
  {
   "cell_type": "code",
   "execution_count": 8,
   "metadata": {},
   "outputs": [],
   "source": [
    "def compute_stoch_gradient_svm(A_sample, b_sample, lambda_, w_t, num_data_points):\n",
    "    \"\"\"\n",
    "    Calculate stochastic gradient over A_batch, b_batch.\n",
    "    A_sample: A data sample, shape=(num_features)\n",
    "    b_sample: Corresponding +1 or -1 label, scalar\n",
    "    w_t: Model weights, shape=(num_features)\n",
    "    num_data_points: Total size of the dataset, scalar integer\n",
    "    \"\"\"\n",
    "    # ***************************************************\n",
    "    # INSERT YOUR CODE HERE\n",
    "    # TODO\n",
    "    # ***************************************************\n",
    "    reg_grad = 2 * lambda_ * w_t\n",
    "    if b_sample * A_sample @ w_t >= 1:\n",
    "        loss_grad = np.zeros(len(w_t))\n",
    "    else:\n",
    "        loss_grad = -np.sum(b_sample * A_sample, axis=0)\n",
    "    \n",
    "    return loss_grad + reg_grad"
   ]
  },
  {
   "cell_type": "code",
   "execution_count": 144,
   "metadata": {},
   "outputs": [],
   "source": [
    "def stochastic_gradient_descent_svm_demo(A, b, gamma, batch_size=1, trace=False):\n",
    "    history = defaultdict(list) if trace else None\n",
    "    num_data_points, num_features = np.shape(A)\n",
    "    max_iter = 100000\n",
    "    lambda_ = 0.01\n",
    "    \n",
    "    w_t = np.zeros(num_features)\n",
    "    \n",
    "    current_iter = 0\n",
    "    while (current_iter < max_iter):\n",
    "        i = random.randint(0,num_data_points - 1)\n",
    "        b_batch, A_batch = b[i], A[i]\n",
    "        gradient = compute_stoch_gradient_svm(A_batch, b_batch, lambda_, w_t, num_data_points)\n",
    "        w_t = w_t - gamma * gradient\n",
    "        if current_iter % 1000 == 0:\n",
    "            primal_value = calculate_primal_objective(y, A, w_t, lambda_)\n",
    "            print('iteration=%i, primal:%.5f'%(\n",
    "                    current_iter, primal_value))\n",
    "        if current_iter % 1000 == 0:\n",
    "            primal_value = calculate_primal_objective(y, A, w_t, lambda_)\n",
    "            if trace:\n",
    "                history['objective_function'].append(primal_value)\n",
    "                history['iter'].append(current_iter)\n",
    "        current_iter += 1\n",
    "    print(\"training accuracy = {l}\".format(l=calculate_accuracy(y, A, w_t)))\n",
    "    return history\n"
   ]
  },
  {
   "cell_type": "markdown",
   "metadata": {},
   "source": [
    "Try different stepsized and find the best one"
   ]
  },
  {
   "cell_type": "code",
   "execution_count": 147,
   "metadata": {
    "scrolled": true
   },
   "outputs": [
    {
     "name": "stdout",
     "output_type": "stream",
     "text": [
      "iteration=0, primal:2409.47502\n",
      "iteration=1000, primal:687.78718\n",
      "iteration=2000, primal:647.88887\n",
      "iteration=3000, primal:640.63783\n",
      "iteration=4000, primal:638.33083\n",
      "iteration=5000, primal:634.61217\n",
      "iteration=6000, primal:627.34359\n",
      "iteration=7000, primal:626.78773\n",
      "iteration=8000, primal:626.92595\n",
      "iteration=9000, primal:626.91452\n",
      "iteration=10000, primal:626.79755\n",
      "iteration=11000, primal:626.90621\n",
      "iteration=12000, primal:626.73647\n",
      "iteration=13000, primal:628.71634\n",
      "iteration=14000, primal:626.71954\n",
      "iteration=15000, primal:626.74906\n",
      "iteration=16000, primal:628.70986\n",
      "iteration=17000, primal:626.93010\n",
      "iteration=18000, primal:629.21386\n",
      "iteration=19000, primal:626.72112\n",
      "iteration=20000, primal:628.25431\n",
      "iteration=21000, primal:626.79404\n",
      "iteration=22000, primal:626.76429\n",
      "iteration=23000, primal:626.75798\n",
      "iteration=24000, primal:626.81990\n",
      "iteration=25000, primal:626.93463\n",
      "iteration=26000, primal:627.03084\n",
      "iteration=27000, primal:626.84323\n",
      "iteration=28000, primal:627.02520\n",
      "iteration=29000, primal:627.02923\n",
      "iteration=30000, primal:627.00366\n",
      "iteration=31000, primal:627.00304\n",
      "iteration=32000, primal:627.02891\n",
      "iteration=33000, primal:626.93460\n",
      "iteration=34000, primal:626.90463\n",
      "iteration=35000, primal:626.95560\n",
      "iteration=36000, primal:626.93011\n",
      "iteration=37000, primal:626.83329\n",
      "iteration=38000, primal:626.96838\n",
      "iteration=39000, primal:627.01610\n",
      "iteration=40000, primal:626.79294\n",
      "iteration=41000, primal:627.42276\n",
      "iteration=42000, primal:626.75246\n",
      "iteration=43000, primal:626.88135\n",
      "iteration=44000, primal:626.87940\n",
      "iteration=45000, primal:626.89762\n",
      "iteration=46000, primal:626.98914\n",
      "iteration=47000, primal:626.97445\n",
      "iteration=48000, primal:626.89910\n",
      "iteration=49000, primal:627.05471\n",
      "iteration=50000, primal:627.07278\n",
      "iteration=51000, primal:627.02202\n",
      "iteration=52000, primal:627.12293\n",
      "iteration=53000, primal:627.03450\n",
      "iteration=54000, primal:626.99317\n",
      "iteration=55000, primal:626.98954\n",
      "iteration=56000, primal:626.94372\n",
      "iteration=57000, primal:626.94018\n",
      "iteration=58000, primal:626.94904\n",
      "iteration=59000, primal:626.78509\n",
      "iteration=60000, primal:626.95133\n",
      "iteration=61000, primal:626.89930\n",
      "iteration=62000, primal:626.91916\n",
      "iteration=63000, primal:626.84869\n",
      "iteration=64000, primal:626.74888\n",
      "iteration=65000, primal:626.87924\n",
      "iteration=66000, primal:626.79959\n",
      "iteration=67000, primal:626.78838\n",
      "iteration=68000, primal:626.93908\n",
      "iteration=69000, primal:626.83742\n",
      "iteration=70000, primal:626.92274\n",
      "iteration=71000, primal:627.05957\n",
      "iteration=72000, primal:627.10106\n",
      "iteration=73000, primal:627.18783\n",
      "iteration=74000, primal:627.04755\n",
      "iteration=75000, primal:626.93771\n",
      "iteration=76000, primal:627.09479\n",
      "iteration=77000, primal:627.31826\n",
      "iteration=78000, primal:627.16469\n",
      "iteration=79000, primal:627.15591\n",
      "iteration=80000, primal:627.11576\n",
      "iteration=81000, primal:627.20412\n",
      "iteration=82000, primal:627.06369\n",
      "iteration=83000, primal:626.91469\n",
      "iteration=84000, primal:626.70465\n",
      "iteration=85000, primal:626.83035\n",
      "iteration=86000, primal:626.69518\n",
      "iteration=87000, primal:626.69830\n",
      "iteration=88000, primal:626.68942\n",
      "iteration=89000, primal:626.68892\n",
      "iteration=90000, primal:626.78815\n",
      "iteration=91000, primal:626.97318\n",
      "iteration=92000, primal:627.03656\n",
      "iteration=93000, primal:627.08585\n",
      "iteration=94000, primal:627.08657\n",
      "iteration=95000, primal:626.87836\n",
      "iteration=96000, primal:626.83929\n",
      "iteration=97000, primal:626.75831\n",
      "iteration=98000, primal:627.80034\n",
      "iteration=99000, primal:626.74273\n",
      "training accuracy = 0.8922083165119096\n"
     ]
    }
   ],
   "source": [
    "gamma = 0.0001\n",
    "history_sgd = stochastic_gradient_descent_svm_demo(A, y, gamma, trace=True)\n"
   ]
  },
  {
   "cell_type": "markdown",
   "metadata": {},
   "source": [
    "Plot learning curves"
   ]
  },
  {
   "cell_type": "code",
   "execution_count": 157,
   "metadata": {},
   "outputs": [
    {
     "data": {
      "text/plain": [
       "Text(0.5, 1.0, 'CD vs SGD')"
      ]
     },
     "execution_count": 157,
     "metadata": {},
     "output_type": "execute_result"
    },
    {
     "data": {
      "image/png": "[encoded data removed]",
      "text/plain": [
       "<Figure size 432x288 with 1 Axes>"
      ]
     },
     "metadata": {
      "needs_background": "light"
     },
     "output_type": "display_data"
    }
   ],
   "source": [
    "fig, ax = plt.subplots()\n",
    "plt.plot(np.arange(len(history_cd['objective_function']))*1000, history_cd['objective_function'], label=\"CD\")\n",
    "plt.plot(np.arange(len(history_sgd['objective_function']))*1000, history_sgd['objective_function'], label=\"SGD\")\n",
    "plt.legend()\n",
    "plt.ylabel(\"Primal problem value\")\n",
    "plt.xlabel(\"Iteration\")\n",
    "plt.yscale(\"log\")\n",
    "plt.title(\"CD vs SGD\")"
   ]
  },
  {
   "cell_type": "markdown",
   "metadata": {},
   "source": [
    "## Compare SGD with Coordinate Descent"
   ]
  },
  {
   "cell_type": "markdown",
   "metadata": {},
   "source": [
    "Compare two algorithms in terms of convergence, time complexities per iteration. Which one is easier to use?"
   ]
  }
 ],
 "metadata": {
  "anaconda-cloud": {},
  "kernelspec": {
   "display_name": "Python 3 (ipykernel)",
   "language": "python",
   "name": "python3"
  },
  "language_info": {
   "codemirror_mode": {
    "name": "ipython",
    "version": 3
   },
   "file_extension": ".py",
   "mimetype": "text/x-python",
   "name": "python",
   "nbconvert_exporter": "python",
   "pygments_lexer": "ipython3",
   "version": "3.9.5"
  },
  "toc": {
   "base_numbering": 1,
   "nav_menu": {},
   "number_sections": true,
   "sideBar": true,
   "skip_h1_title": false,
   "title_cell": "Table of Contents",
   "title_sidebar": "Contents",
   "toc_cell": false,
   "toc_position": {},
   "toc_section_display": true,
   "toc_window_display": false
  }
 },
 "nbformat": 4,
 "nbformat_minor": 1
}
